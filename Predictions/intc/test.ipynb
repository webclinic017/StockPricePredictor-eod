{
 "cells": [
  {
   "cell_type": "code",
   "execution_count": 1,
   "metadata": {},
   "outputs": [
    {
     "name": "stdout",
     "output_type": "stream",
     "text": [
      "Note: you may need to restart the kernel to use updated packages.\n"
     ]
    },
    {
     "name": "stderr",
     "output_type": "stream",
     "text": [
      "ERROR: Could not find a version that satisfies the requirement request (from versions: none)\n",
      "ERROR: No matching distribution found for request\n",
      "\n",
      "[notice] A new release of pip available: 22.2.1 -> 22.3.1\n",
      "[notice] To update, run: python.exe -m pip install --upgrade pip\n"
     ]
    }
   ],
   "source": [
    "%pip install request"
   ]
  },
  {
   "cell_type": "code",
   "execution_count": 1,
   "metadata": {},
   "outputs": [
    {
     "ename": "ModuleNotFoundError",
     "evalue": "No module named 'request'",
     "output_type": "error",
     "traceback": [
      "\u001b[1;31m---------------------------------------------------------------------------\u001b[0m",
      "\u001b[1;31mModuleNotFoundError\u001b[0m                       Traceback (most recent call last)",
      "\u001b[1;32mc:\\Users\\z0040jeb\\Desktop\\MachineLearning\\Data Science\\VSCode\\04_StockPrediction\\test.ipynb Cell 2\u001b[0m in \u001b[0;36m<cell line: 1>\u001b[1;34m()\u001b[0m\n\u001b[1;32m----> <a href='vscode-notebook-cell:/c%3A/Users/z0040jeb/Desktop/MachineLearning/Data%20Science/VSCode/04_StockPrediction/test.ipynb#W1sZmlsZQ%3D%3D?line=0'>1</a>\u001b[0m \u001b[39mimport\u001b[39;00m \u001b[39mrequest\u001b[39;00m\n",
      "\u001b[1;31mModuleNotFoundError\u001b[0m: No module named 'request'"
     ]
    }
   ],
   "source": [
    "import request"
   ]
  },
  {
   "cell_type": "code",
   "execution_count": 2,
   "metadata": {},
   "outputs": [
    {
     "name": "stdout",
     "output_type": "stream",
     "text": [
      "Collecting polygon-api-client\n",
      "  Downloading polygon_api_client-1.5.0-py3-none-any.whl (37 kB)\n",
      "Requirement already satisfied: certifi<2023.0.0,>=2022.5.18 in c:\\users\\z0040jeb\\desktop\\machinelearning\\data science\\vscode\\04_stockprediction\\04_stockprediction\\lib\\site-packages (from polygon-api-client) (2022.6.15)\n",
      "Requirement already satisfied: urllib3<2.0.0,>=1.26.9 in c:\\users\\z0040jeb\\desktop\\machinelearning\\data science\\vscode\\04_stockprediction\\04_stockprediction\\lib\\site-packages (from polygon-api-client) (1.26.11)\n",
      "Collecting websockets<11.0,>=10.3\n",
      "  Downloading websockets-10.4-cp38-cp38-win_amd64.whl (101 kB)\n",
      "     -------------------------------------- 101.4/101.4 kB 2.9 MB/s eta 0:00:00\n",
      "Installing collected packages: websockets, polygon-api-client\n",
      "Successfully installed polygon-api-client-1.5.0 websockets-10.4\n"
     ]
    },
    {
     "name": "stderr",
     "output_type": "stream",
     "text": [
      "\n",
      "[notice] A new release of pip available: 22.2.1 -> 22.3.1\n",
      "[notice] To update, run: python.exe -m pip install --upgrade pip\n"
     ]
    }
   ],
   "source": [
    "!pip install polygon-api-client"
   ]
  },
  {
   "cell_type": "code",
   "execution_count": 6,
   "metadata": {},
   "outputs": [
    {
     "name": "stdout",
     "output_type": "stream",
     "text": [
      "[Agg(open=174.57, high=178.49, low=174.44, close=178.44, volume=76545983.0, vwap=177.4855, timestamp=1649044800000, transactions=630374, otc=None), Agg(open=177.5, high=178.3, low=174.415, close=175.06, volume=73401786.0, vwap=175.9791, timestamp=1649131200000, transactions=621541, otc=None), Agg(open=172.36, high=173.63, low=170.13, close=171.83, volume=89058782.0, vwap=171.7887, timestamp=1649217600000, transactions=769485, otc=None), Agg(open=171.16, high=173.36, low=169.85, close=172.14, volume=77594650.0, vwap=171.8049, timestamp=1649304000000, transactions=628352, otc=None), Agg(open=171.78, high=171.78, low=169.2, close=170.09, volume=76534208.0, vwap=170.5154, timestamp=1649390400000, transactions=614848, otc=None), Agg(open=168.71, high=169.03, low=165.5, close=165.75, volume=72246706.0, vwap=166.692, timestamp=1649649600000, transactions=677210, otc=None), Agg(open=168.02, high=169.87, low=166.64, close=167.66, volume=79265181.0, vwap=168.0916, timestamp=1649736000000, transactions=678461, otc=None)]\n"
     ]
    }
   ],
   "source": [
    "from polygon import RESTClient\n",
    "from polygon.rest import models\n",
    "\n",
    "client = RESTClient(\"Fby8rnS50LF_iMJKDwWOpNG5zJ8r6UAs\")\n",
    "\n",
    "aggs = client.get_aggs(\n",
    "    \"AAPL\",\n",
    "    1,\n",
    "    \"day\",\n",
    "    \"2022-04-04\",\n",
    "    \"2022-04-12\",\n",
    ")\n",
    "print(aggs)"
   ]
  },
  {
   "cell_type": "code",
   "execution_count": 7,
   "metadata": {},
   "outputs": [
    {
     "data": {
      "text/plain": [
       "[Agg(open=174.57, high=178.49, low=174.44, close=178.44, volume=76545983.0, vwap=177.4855, timestamp=1649044800000, transactions=630374, otc=None),\n",
       " Agg(open=177.5, high=178.3, low=174.415, close=175.06, volume=73401786.0, vwap=175.9791, timestamp=1649131200000, transactions=621541, otc=None),\n",
       " Agg(open=172.36, high=173.63, low=170.13, close=171.83, volume=89058782.0, vwap=171.7887, timestamp=1649217600000, transactions=769485, otc=None),\n",
       " Agg(open=171.16, high=173.36, low=169.85, close=172.14, volume=77594650.0, vwap=171.8049, timestamp=1649304000000, transactions=628352, otc=None),\n",
       " Agg(open=171.78, high=171.78, low=169.2, close=170.09, volume=76534208.0, vwap=170.5154, timestamp=1649390400000, transactions=614848, otc=None),\n",
       " Agg(open=168.71, high=169.03, low=165.5, close=165.75, volume=72246706.0, vwap=166.692, timestamp=1649649600000, transactions=677210, otc=None),\n",
       " Agg(open=168.02, high=169.87, low=166.64, close=167.66, volume=79265181.0, vwap=168.0916, timestamp=1649736000000, transactions=678461, otc=None)]"
      ]
     },
     "execution_count": 7,
     "metadata": {},
     "output_type": "execute_result"
    }
   ],
   "source": [
    "aggs"
   ]
  },
  {
   "cell_type": "code",
   "execution_count": 8,
   "metadata": {},
   "outputs": [
    {
     "data": {
      "text/html": [
       "<div>\n",
       "<style scoped>\n",
       "    .dataframe tbody tr th:only-of-type {\n",
       "        vertical-align: middle;\n",
       "    }\n",
       "\n",
       "    .dataframe tbody tr th {\n",
       "        vertical-align: top;\n",
       "    }\n",
       "\n",
       "    .dataframe thead th {\n",
       "        text-align: right;\n",
       "    }\n",
       "</style>\n",
       "<table border=\"1\" class=\"dataframe\">\n",
       "  <thead>\n",
       "    <tr style=\"text-align: right;\">\n",
       "      <th></th>\n",
       "      <th>open</th>\n",
       "      <th>high</th>\n",
       "      <th>low</th>\n",
       "      <th>close</th>\n",
       "      <th>volume</th>\n",
       "      <th>vwap</th>\n",
       "      <th>timestamp</th>\n",
       "      <th>transactions</th>\n",
       "      <th>otc</th>\n",
       "    </tr>\n",
       "  </thead>\n",
       "  <tbody>\n",
       "    <tr>\n",
       "      <th>0</th>\n",
       "      <td>174.57</td>\n",
       "      <td>178.49</td>\n",
       "      <td>174.440</td>\n",
       "      <td>178.44</td>\n",
       "      <td>76545983.0</td>\n",
       "      <td>177.4855</td>\n",
       "      <td>1649044800000</td>\n",
       "      <td>630374</td>\n",
       "      <td>None</td>\n",
       "    </tr>\n",
       "    <tr>\n",
       "      <th>1</th>\n",
       "      <td>177.50</td>\n",
       "      <td>178.30</td>\n",
       "      <td>174.415</td>\n",
       "      <td>175.06</td>\n",
       "      <td>73401786.0</td>\n",
       "      <td>175.9791</td>\n",
       "      <td>1649131200000</td>\n",
       "      <td>621541</td>\n",
       "      <td>None</td>\n",
       "    </tr>\n",
       "    <tr>\n",
       "      <th>2</th>\n",
       "      <td>172.36</td>\n",
       "      <td>173.63</td>\n",
       "      <td>170.130</td>\n",
       "      <td>171.83</td>\n",
       "      <td>89058782.0</td>\n",
       "      <td>171.7887</td>\n",
       "      <td>1649217600000</td>\n",
       "      <td>769485</td>\n",
       "      <td>None</td>\n",
       "    </tr>\n",
       "    <tr>\n",
       "      <th>3</th>\n",
       "      <td>171.16</td>\n",
       "      <td>173.36</td>\n",
       "      <td>169.850</td>\n",
       "      <td>172.14</td>\n",
       "      <td>77594650.0</td>\n",
       "      <td>171.8049</td>\n",
       "      <td>1649304000000</td>\n",
       "      <td>628352</td>\n",
       "      <td>None</td>\n",
       "    </tr>\n",
       "    <tr>\n",
       "      <th>4</th>\n",
       "      <td>171.78</td>\n",
       "      <td>171.78</td>\n",
       "      <td>169.200</td>\n",
       "      <td>170.09</td>\n",
       "      <td>76534208.0</td>\n",
       "      <td>170.5154</td>\n",
       "      <td>1649390400000</td>\n",
       "      <td>614848</td>\n",
       "      <td>None</td>\n",
       "    </tr>\n",
       "    <tr>\n",
       "      <th>5</th>\n",
       "      <td>168.71</td>\n",
       "      <td>169.03</td>\n",
       "      <td>165.500</td>\n",
       "      <td>165.75</td>\n",
       "      <td>72246706.0</td>\n",
       "      <td>166.6920</td>\n",
       "      <td>1649649600000</td>\n",
       "      <td>677210</td>\n",
       "      <td>None</td>\n",
       "    </tr>\n",
       "    <tr>\n",
       "      <th>6</th>\n",
       "      <td>168.02</td>\n",
       "      <td>169.87</td>\n",
       "      <td>166.640</td>\n",
       "      <td>167.66</td>\n",
       "      <td>79265181.0</td>\n",
       "      <td>168.0916</td>\n",
       "      <td>1649736000000</td>\n",
       "      <td>678461</td>\n",
       "      <td>None</td>\n",
       "    </tr>\n",
       "  </tbody>\n",
       "</table>\n",
       "</div>"
      ],
      "text/plain": [
       "     open    high      low   close      volume      vwap      timestamp  \\\n",
       "0  174.57  178.49  174.440  178.44  76545983.0  177.4855  1649044800000   \n",
       "1  177.50  178.30  174.415  175.06  73401786.0  175.9791  1649131200000   \n",
       "2  172.36  173.63  170.130  171.83  89058782.0  171.7887  1649217600000   \n",
       "3  171.16  173.36  169.850  172.14  77594650.0  171.8049  1649304000000   \n",
       "4  171.78  171.78  169.200  170.09  76534208.0  170.5154  1649390400000   \n",
       "5  168.71  169.03  165.500  165.75  72246706.0  166.6920  1649649600000   \n",
       "6  168.02  169.87  166.640  167.66  79265181.0  168.0916  1649736000000   \n",
       "\n",
       "   transactions   otc  \n",
       "0        630374  None  \n",
       "1        621541  None  \n",
       "2        769485  None  \n",
       "3        628352  None  \n",
       "4        614848  None  \n",
       "5        677210  None  \n",
       "6        678461  None  "
      ]
     },
     "execution_count": 8,
     "metadata": {},
     "output_type": "execute_result"
    }
   ],
   "source": [
    "import pandas as pd\n",
    "df = pd.DataFrame(aggs)\n",
    "df"
   ]
  },
  {
   "cell_type": "code",
   "execution_count": 13,
   "metadata": {},
   "outputs": [
    {
     "data": {
      "text/html": [
       "<div>\n",
       "<style scoped>\n",
       "    .dataframe tbody tr th:only-of-type {\n",
       "        vertical-align: middle;\n",
       "    }\n",
       "\n",
       "    .dataframe tbody tr th {\n",
       "        vertical-align: top;\n",
       "    }\n",
       "\n",
       "    .dataframe thead th {\n",
       "        text-align: right;\n",
       "    }\n",
       "</style>\n",
       "<table border=\"1\" class=\"dataframe\">\n",
       "  <thead>\n",
       "    <tr style=\"text-align: right;\">\n",
       "      <th></th>\n",
       "      <th>open</th>\n",
       "      <th>high</th>\n",
       "      <th>low</th>\n",
       "      <th>close</th>\n",
       "      <th>volume</th>\n",
       "      <th>vwap</th>\n",
       "      <th>timestamp</th>\n",
       "      <th>transactions</th>\n",
       "      <th>otc</th>\n",
       "      <th>Date</th>\n",
       "    </tr>\n",
       "  </thead>\n",
       "  <tbody>\n",
       "    <tr>\n",
       "      <th>0</th>\n",
       "      <td>174.57</td>\n",
       "      <td>178.49</td>\n",
       "      <td>174.440</td>\n",
       "      <td>178.44</td>\n",
       "      <td>76545983.0</td>\n",
       "      <td>177.4855</td>\n",
       "      <td>1649044800000</td>\n",
       "      <td>630374</td>\n",
       "      <td>None</td>\n",
       "      <td>2022-04-04 04:00:00</td>\n",
       "    </tr>\n",
       "    <tr>\n",
       "      <th>1</th>\n",
       "      <td>177.50</td>\n",
       "      <td>178.30</td>\n",
       "      <td>174.415</td>\n",
       "      <td>175.06</td>\n",
       "      <td>73401786.0</td>\n",
       "      <td>175.9791</td>\n",
       "      <td>1649131200000</td>\n",
       "      <td>621541</td>\n",
       "      <td>None</td>\n",
       "      <td>2022-04-05 04:00:00</td>\n",
       "    </tr>\n",
       "    <tr>\n",
       "      <th>2</th>\n",
       "      <td>172.36</td>\n",
       "      <td>173.63</td>\n",
       "      <td>170.130</td>\n",
       "      <td>171.83</td>\n",
       "      <td>89058782.0</td>\n",
       "      <td>171.7887</td>\n",
       "      <td>1649217600000</td>\n",
       "      <td>769485</td>\n",
       "      <td>None</td>\n",
       "      <td>2022-04-06 04:00:00</td>\n",
       "    </tr>\n",
       "    <tr>\n",
       "      <th>3</th>\n",
       "      <td>171.16</td>\n",
       "      <td>173.36</td>\n",
       "      <td>169.850</td>\n",
       "      <td>172.14</td>\n",
       "      <td>77594650.0</td>\n",
       "      <td>171.8049</td>\n",
       "      <td>1649304000000</td>\n",
       "      <td>628352</td>\n",
       "      <td>None</td>\n",
       "      <td>2022-04-07 04:00:00</td>\n",
       "    </tr>\n",
       "    <tr>\n",
       "      <th>4</th>\n",
       "      <td>171.78</td>\n",
       "      <td>171.78</td>\n",
       "      <td>169.200</td>\n",
       "      <td>170.09</td>\n",
       "      <td>76534208.0</td>\n",
       "      <td>170.5154</td>\n",
       "      <td>1649390400000</td>\n",
       "      <td>614848</td>\n",
       "      <td>None</td>\n",
       "      <td>2022-04-08 04:00:00</td>\n",
       "    </tr>\n",
       "    <tr>\n",
       "      <th>5</th>\n",
       "      <td>168.71</td>\n",
       "      <td>169.03</td>\n",
       "      <td>165.500</td>\n",
       "      <td>165.75</td>\n",
       "      <td>72246706.0</td>\n",
       "      <td>166.6920</td>\n",
       "      <td>1649649600000</td>\n",
       "      <td>677210</td>\n",
       "      <td>None</td>\n",
       "      <td>2022-04-11 04:00:00</td>\n",
       "    </tr>\n",
       "    <tr>\n",
       "      <th>6</th>\n",
       "      <td>168.02</td>\n",
       "      <td>169.87</td>\n",
       "      <td>166.640</td>\n",
       "      <td>167.66</td>\n",
       "      <td>79265181.0</td>\n",
       "      <td>168.0916</td>\n",
       "      <td>1649736000000</td>\n",
       "      <td>678461</td>\n",
       "      <td>None</td>\n",
       "      <td>2022-04-12 04:00:00</td>\n",
       "    </tr>\n",
       "  </tbody>\n",
       "</table>\n",
       "</div>"
      ],
      "text/plain": [
       "     open    high      low   close      volume      vwap      timestamp  \\\n",
       "0  174.57  178.49  174.440  178.44  76545983.0  177.4855  1649044800000   \n",
       "1  177.50  178.30  174.415  175.06  73401786.0  175.9791  1649131200000   \n",
       "2  172.36  173.63  170.130  171.83  89058782.0  171.7887  1649217600000   \n",
       "3  171.16  173.36  169.850  172.14  77594650.0  171.8049  1649304000000   \n",
       "4  171.78  171.78  169.200  170.09  76534208.0  170.5154  1649390400000   \n",
       "5  168.71  169.03  165.500  165.75  72246706.0  166.6920  1649649600000   \n",
       "6  168.02  169.87  166.640  167.66  79265181.0  168.0916  1649736000000   \n",
       "\n",
       "   transactions   otc                Date  \n",
       "0        630374  None 2022-04-04 04:00:00  \n",
       "1        621541  None 2022-04-05 04:00:00  \n",
       "2        769485  None 2022-04-06 04:00:00  \n",
       "3        628352  None 2022-04-07 04:00:00  \n",
       "4        614848  None 2022-04-08 04:00:00  \n",
       "5        677210  None 2022-04-11 04:00:00  \n",
       "6        678461  None 2022-04-12 04:00:00  "
      ]
     },
     "execution_count": 13,
     "metadata": {},
     "output_type": "execute_result"
    }
   ],
   "source": [
    "df['Date'] = pd.to_datetime(df.timestamp, unit='ms')\n",
    "df"
   ]
  },
  {
   "cell_type": "code",
   "execution_count": null,
   "metadata": {},
   "outputs": [],
   "source": []
  }
 ],
 "metadata": {
  "kernelspec": {
   "display_name": "04_stockprediction",
   "language": "python",
   "name": "python3"
  },
  "language_info": {
   "codemirror_mode": {
    "name": "ipython",
    "version": 3
   },
   "file_extension": ".py",
   "mimetype": "text/x-python",
   "name": "python",
   "nbconvert_exporter": "python",
   "pygments_lexer": "ipython3",
   "version": "3.8.0"
  },
  "orig_nbformat": 4,
  "vscode": {
   "interpreter": {
    "hash": "8ae9b00e5548af57dc5d4c583df0ad518b3d501960f1be5c69ca4a560e00ae05"
   }
  }
 },
 "nbformat": 4,
 "nbformat_minor": 2
}
