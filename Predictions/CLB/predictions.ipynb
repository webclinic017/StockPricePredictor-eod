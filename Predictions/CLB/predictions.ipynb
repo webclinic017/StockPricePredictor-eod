{
 "cells": [
  {
   "cell_type": "code",
   "execution_count": 1,
   "metadata": {},
   "outputs": [],
   "source": [
    "import pandas as pd\n",
    "import tensorflow as tf\n",
    "import numpy as np\n",
    "\n",
    "variables_df = pd.read_csv('variables_df.csv',index_col=[0])\n",
    "\n",
    "variables_dict = variables_df.to_dict()['0']\n",
    "batch_size = int(variables_dict['batch_size_valid'])\n",
    "window_size = int(variables_dict['window_size'])\n",
    "sentiment = bool(variables_dict['sentiment'])\n",
    "sentiment_type = variables_dict['sentiment_type']\n",
    "ticker = variables_dict['ticker']\n",
    "excel_reports = variables_dict['excel_reports']\n",
    "entry_candle = variables_dict['entry_candle']\n",
    "model_name = variables_dict['model_name']\n",
    "indicator1 = int(variables_dict['indicator1'])\n",
    "indicator2 = int(variables_dict['indicator2'])\n",
    "indicator3 = int(variables_dict['indicator3'])\n",
    "aggr_function = variables_dict['aggr_function']\n",
    "condition = bool(variables_dict['condition'])\n",
    "period = variables_dict['period']\n",
    "formation_window = int(variables_dict['formation_window'])\n"
   ]
  },
  {
   "cell_type": "code",
   "execution_count": 2,
   "metadata": {},
   "outputs": [],
   "source": [
    "x_test = pd.read_csv(f'{ticker}_test_data.csv',index_col=[0])\n",
    "x_test_x = pd.read_csv(f'{ticker}_x_test_x.csv',index_col=[0])\n",
    "news_df = pd.read_excel(f'{ticker}_sentiment_analysis_final.xlsx',index_col=[0])\n",
    "Dates = pd.read_csv(f'{ticker}_Dates.csv',index_col=[0])\n",
    "Dates = Dates.iloc[:,0] "
   ]
  },
  {
   "cell_type": "code",
   "execution_count": 3,
   "metadata": {},
   "outputs": [
    {
     "name": "stdout",
     "output_type": "stream",
     "text": [
      "31/31 [==============================] - 3s 39ms/step\n"
     ]
    },
    {
     "data": {
      "text/plain": [
       "array([0.6061249 , 0.5686266 , 0.55819464, 0.53401965, 0.48594537,\n",
       "       0.5113487 , 0.51379824, 0.52254266, 0.54147905, 0.5283686 ,\n",
       "       0.44721305, 0.41574362, 0.49567997, 0.52149445, 0.5764752 ,\n",
       "       0.59513825, 0.51007503, 0.47818178, 0.49892345, 0.6323539 ,\n",
       "       0.64881015, 0.63620704, 0.65049887, 0.6709478 , 0.676971  ,\n",
       "       0.64396626, 0.6228109 , 0.6133658 , 0.58728635, 0.6153913 ,\n",
       "       0.64233917], dtype=float32)"
      ]
     },
     "execution_count": 3,
     "metadata": {},
     "output_type": "execute_result"
    }
   ],
   "source": [
    "#Load model\n",
    "model_name = variables_dict['model_name']\n",
    "\n",
    "def sign_penalty(y_true, y_pred):\n",
    "    penalty = 100.\n",
    "    loss = tf.where(tf.less(y_true*y_pred, 0),\n",
    "                        penalty * tf.square(y_true-y_pred),\n",
    "                        tf.square(y_true - y_pred)\n",
    "                        )\n",
    "\n",
    "    return(tf.reduce_mean(loss, axis=-1))\n",
    "\n",
    "tf.keras.losses.sign_penalty = sign_penalty\n",
    "model = tf.keras.models.load_model(model_name, custom_objects={\n",
    "                                           'sign_penalty': sign_penalty})\n",
    "from functions import model_forecast\n",
    "\n",
    "forecast = model_forecast(model, x_test, window_size=window_size, debug=False)\n",
    "forecast\n"
   ]
  },
  {
   "cell_type": "code",
   "execution_count": 4,
   "metadata": {},
   "outputs": [
    {
     "name": "stdout",
     "output_type": "stream",
     "text": [
      "--------> GetTensoredDataset completed\n",
      "\n",
      "--------> ReverseNormalization completed\n",
      "\n",
      "--------> GetFinalDataframe\n",
      "\n",
      "ticker: CLB\n",
      "\n",
      "Formations:  31\n",
      "period: 2022-05-09 - 2023-01-02\n",
      "Entry Candle:  Current Open\n",
      "\n",
      "Total Trades:  25\n",
      "Profit Trades:  16\n",
      "Loss Trades:  9\n",
      "\n",
      "Win Ratio: 64.0 %\n",
      "Loss Ratio: 36 %\n",
      "\n",
      "Trade nr with exact TP:  4\n",
      "Ratio of exact TP: 16.0 %\n",
      "\n",
      "Average profit per trade:  306\n",
      "\n",
      "Gross profit:  7659\n",
      "Gross loss:  -7778\n",
      "\n",
      "Net profit:  -119\n",
      "--------> GetPerformanceReport completed\n",
      "\n"
     ]
    }
   ],
   "source": [
    "from training import GetTensoredDataset\n",
    "\n",
    "GetTensoredValidDataset = GetTensoredDataset()\n",
    "\n",
    "GetTensoredValidDataset.fit(window_size=window_size, batch_size=batch_size, train=False, debug=False)\n",
    "\n",
    "x_test_tensors, labels = GetTensoredValidDataset.transform(x_test)\n",
    "\n",
    "from transformers_preprocess import ReverseNormalization\n",
    "\n",
    "ReverseNormalization = ReverseNormalization()\n",
    "\n",
    "ReverseNormalization.fit(forecasts=forecast, labels=labels,\n",
    "                         x_test=x_test, x_test_x=x_test_x, window_size=window_size, debug=False,\n",
    "                         sentiment=sentiment,sentiment_type=sentiment_type)\n",
    "\n",
    "df = ReverseNormalization.transform()\n",
    "\n",
    "from final_evaluation import GetFinalDataframe\n",
    "\n",
    "GetFinalDataframe = GetFinalDataframe()\n",
    "\n",
    "GetFinalDataframe.fit(dates=Dates,\n",
    "                      x_test=x_test,\n",
    "                      sentiment=sentiment,\n",
    "                      sentiment_type=sentiment_type)\n",
    "\n",
    "reversed_df = GetFinalDataframe.transform(df)\n",
    "\n",
    "from final_evaluation import GetModelPerformance\n",
    "#print(f\"Window size: {window_size} \\n\")\n",
    "print(f\"ticker: {str.upper(ticker)}\\n\")\n",
    "GetModelPerformance = GetModelPerformance()\n",
    "\n",
    "GetModelPerformance.fit(acceptance=0,\n",
    "                        penalization=0,\n",
    "                        entry_candle='Current Open',#Current Open\n",
    "                        budget=10000,\n",
    "                        window_size=window_size,\n",
    "                        export_excel=False,\n",
    "                        excel_path = excel_reports,\n",
    "                        sentiment=sentiment)\n",
    "\n",
    "trades_df = GetModelPerformance.transform(reversed_df)\n",
    "\n",
    "from final_evaluation import GetPerformanceReport\n",
    "\n",
    "GetPerformanceReport = GetPerformanceReport()\n",
    "\n",
    "GetPerformanceReport.fit(entry_candle=entry_candle,\n",
    "                        budget=10000,\n",
    "                        window_size=window_size,\n",
    "                        export_excel=False,\n",
    "                        excel_path = excel_reports)\n",
    "\n",
    "trades_df_final = GetPerformanceReport.transform(trades_df)\n",
    "#trades_df_final"
   ]
  },
  {
   "cell_type": "code",
   "execution_count": 5,
   "metadata": {},
   "outputs": [
    {
     "data": {
      "image/png": "[encoded data removed]",
      "text/plain": [
       "<Figure size 1200x480 with 1 Axes>"
      ]
     },
     "metadata": {
      "needs_background": "light"
     },
     "output_type": "display_data"
    }
   ],
   "source": [
    "import matplotlib.pyplot as plt\n",
    "from matplotlib.pyplot import figure\n",
    "import warnings\n",
    "warnings.filterwarnings(\"ignore\")\n",
    "plt.style.use('fivethirtyeight')\n",
    "figure(figsize=(15, 6), dpi=80)\n",
    "\n",
    "df_plot = trades_df_final[['Datetime','labels','prediction','Entry']]\n",
    "df_plot = df_plot[df_plot.labels != 'nn']\n",
    "\n",
    "x1 = df_plot['labels']\n",
    "x2 = df_plot['prediction']\n",
    "entry = df_plot['Entry']\n",
    "y = df_plot['Datetime']\n",
    "\n",
    "# plot lines\n",
    "plt.plot(y, x1, label = \"Label\")\n",
    "plt.scatter(y, x2, label = \"prediction\",color='red', s=100,marker='_')\n",
    "plt.scatter(y, entry, label = \"entry\",color='blue', s=100,marker=0)\n",
    "plt.xlabel('Datetime')\n",
    "plt.ylabel('Price')\n",
    "plt.title('Predictions vs Labels')\n",
    "plt.legend()\n",
    "plt.show()"
   ]
  },
  {
   "cell_type": "code",
   "execution_count": null,
   "metadata": {},
   "outputs": [],
   "source": []
  },
  {
   "cell_type": "code",
   "execution_count": null,
   "metadata": {},
   "outputs": [],
   "source": [
    "from final_evaluation import MakeSinglePrediction\n",
    "\n",
    "#model_name = f'{saved_models}/{str.upper(ticker)}_{formation_window}_{target_window}_{window_size}_{split_ratio}_{period}_{sentiment}_{start_date}_{end_date}.h5'\n",
    "\n",
    "MakeSinglePrediction = MakeSinglePrediction()\n",
    "\n",
    "fit_output = MakeSinglePrediction.fit(\n",
    "                        model_name=model_name,\n",
    "                        form_window=formation_window,\n",
    "                        ticker=ticker,\n",
    "                        start_date=\"2019-03-18\",\n",
    "                        end_date=\"2022-11-27\",\n",
    "                        interval=period, #1wk\n",
    "                        progress=False,\n",
    "                        condition=condition,\n",
    "                        timeperiod1=indicator1,\n",
    "                        timeperiod2=indicator2,\n",
    "                        timeperiod3=indicator3,\n",
    "                        debug=False,\n",
    "                        budget=10000,\n",
    "                        penalization=0,\n",
    "                        acceptance=0,\n",
    "                        entry_candle='Current Close',\n",
    "                        news_df=news_df,\n",
    "                        sentiment=sentiment,\n",
    "                        sentiment_type = sentiment_type,\n",
    "                        sentiment_aggr = aggr_function)\n",
    "\n",
    "#fit method outputs tuple, get only trade formation out of tuple\n",
    "trade_formation = fit_output[1]\n",
    "final_trade_formation = trade_formation.head(formation_window)\n",
    "final_trade_formation\n",
    "###IMPORTANT!!!!\n",
    "#trade_formation dataframe must be checked before transformation, sometimes df pulled via yahoo finance \n",
    "# is shifted, and trade formation does not have entire formation in itself. in this case there must \n",
    "# be changed end_date in fit method\n",
    "final_trade_formation\n"
   ]
  },
  {
   "cell_type": "code",
   "execution_count": null,
   "metadata": {},
   "outputs": [],
   "source": [
    "#Make prediction\n",
    "MakeSinglePrediction.transform(final_trade_formation)\n",
    "\n",
    "#PLot current chart and sentiment\n",
    "from plotting import PlotCurrentFormation\n",
    "\n",
    "PlotCurrentFormation(final_trade_formation,sentiment=sentiment,indicator1=indicator1,indicator2=indicator2,indicator3=indicator3)\n"
   ]
  },
  {
   "cell_type": "code",
   "execution_count": null,
   "metadata": {},
   "outputs": [],
   "source": []
  },
  {
   "cell_type": "code",
   "execution_count": null,
   "metadata": {},
   "outputs": [],
   "source": []
  },
  {
   "cell_type": "code",
   "execution_count": null,
   "metadata": {},
   "outputs": [],
   "source": []
  },
  {
   "cell_type": "code",
   "execution_count": null,
   "metadata": {},
   "outputs": [],
   "source": []
  },
  {
   "cell_type": "code",
   "execution_count": null,
   "metadata": {},
   "outputs": [],
   "source": []
  }
 ],
 "metadata": {
  "kernelspec": {
   "display_name": "04_stockprediction",
   "language": "python",
   "name": "python3"
  },
  "language_info": {
   "codemirror_mode": {
    "name": "ipython",
    "version": 3
   },
   "file_extension": ".py",
   "mimetype": "text/x-python",
   "name": "python",
   "nbconvert_exporter": "python",
   "pygments_lexer": "ipython3",
   "version": "3.8.0"
  },
  "orig_nbformat": 4,
  "vscode": {
   "interpreter": {
    "hash": "8ae9b00e5548af57dc5d4c583df0ad518b3d501960f1be5c69ca4a560e00ae05"
   }
  }
 },
 "nbformat": 4,
 "nbformat_minor": 2
}
